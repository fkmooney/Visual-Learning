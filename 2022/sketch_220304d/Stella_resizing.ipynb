{
 "cells": [
  {
   "cell_type": "code",
   "execution_count": 57,
   "id": "dc0c9550-595c-450f-9412-d85ece66b60b",
   "metadata": {},
   "outputs": [],
   "source": [
    "scale_factor = 6\n",
    "\n",
    "def setup():\n",
    "    size(600*scale_factor, 600*scale_factor)\n",
    "    background(245)\n",
    "    translate(-2*scale_factor,-10*scale_factor)\n",
    "    \n",
    "    for x in range(25):\n",
    "        stroke(30)\n",
    "        stroke_weight(13*scale_factor)\n",
    "        stroke_cap(SQUARE)\n",
    "        stroke_join(MITER)\n",
    "        no_fill()\n",
    "        \n",
    "        begin_shape()\n",
    "        vertex(x*15*scale_factor+10*scale_factor,0)\n",
    "        vertex(x*15*scale_factor+10*scale_factor, 300*scale_factor-x*15*scale_factor+10*scale_factor)\n",
    "        vertex(x*15*scale_factor+300*scale_factor, 300*scale_factor-x*15*scale_factor+10*scale_factor)\n",
    "        vertex(x*15*scale_factor+300*scale_factor, 300*scale_factor+x*15*scale_factor+10*scale_factor)\n",
    "        vertex(x*15*scale_factor+10*scale_factor, 300*scale_factor+x*15*scale_factor+10*scale_factor)\n",
    "        vertex(x*15*scale_factor+10*scale_factor, 650*scale_factor)\n",
    "        end_shape()\n",
    "        \n",
    "    line(250*scale_factor,310*scale_factor,306*scale_factor,310*scale_factor)    \n",
    "   \n",
    "    save_frame(\"output.png\")"
   ]
  },
  {
   "cell_type": "code",
   "execution_count": 58,
   "id": "ef7837f5-23b8-4bec-872b-06812f060f14",
   "metadata": {},
   "outputs": [],
   "source": [
    "run_sketch()"
   ]
  },
  {
   "cell_type": "code",
   "execution_count": null,
   "id": "d2236c82-ded0-4490-bfc3-6aa7791655e4",
   "metadata": {},
   "outputs": [],
   "source": []
  }
 ],
 "metadata": {
  "kernelspec": {
   "display_name": "py5",
   "language": "python",
   "name": "py5"
  },
  "language_info": {
   "codemirror_mode": {
    "name": "ipython",
    "version": 3
   },
   "file_extension": ".py",
   "mimetype": "text/x-python",
   "name": "python",
   "nbconvert_exporter": "python",
   "pygments_lexer": "ipython3",
   "version": "3.10.4"
  }
 },
 "nbformat": 4,
 "nbformat_minor": 5
}
