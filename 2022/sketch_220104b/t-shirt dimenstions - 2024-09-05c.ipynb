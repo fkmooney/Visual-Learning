{
 "cells": [
  {
   "cell_type": "code",
   "execution_count": 7,
   "id": "f7b1edf8-b68a-41a3-b722-d94938039d29",
   "metadata": {},
   "outputs": [],
   "source": [
    "def setup():\n",
    "    size(6000,6000)\n",
    "    background(110,70,200)\n",
    "\n",
    "def draw():    \n",
    "    \n",
    "    no_stroke()\n",
    "    push_matrix()\n",
    "    tam = 150\n",
    "    rotate(radians(-5))\n",
    "    translate(-1000,0)\n",
    "    for x in range(tam*2):\n",
    "        fill(245)\n",
    "        rect(0,0+x*tam*2,width*2,tam)\n",
    "    pop_matrix()\n",
    "        \n",
    "    stroke_weight(400)\n",
    "    stroke(245)\n",
    "    no_fill()\n",
    "    rect(0,0,width,height)\n",
    "    \n",
    "    no_loop()\n",
    "    save_frame(\"output.png\")\n"
   ]
  },
  {
   "cell_type": "code",
   "execution_count": 8,
   "id": "58d07401-d847-4b6f-bd03-909fdf0e13a8",
   "metadata": {},
   "outputs": [],
   "source": [
    "run_sketch()\n"
   ]
  },
  {
   "cell_type": "code",
   "execution_count": null,
   "id": "b6368df7-ca8c-46ca-a866-43173e679671",
   "metadata": {},
   "outputs": [],
   "source": []
  }
 ],
 "metadata": {
  "kernelspec": {
   "display_name": "py5",
   "language": "python",
   "name": "py5"
  },
  "language_info": {
   "codemirror_mode": {
    "name": "ipython",
    "version": 3
   },
   "file_extension": ".py",
   "mimetype": "text/x-python",
   "name": "python",
   "nbconvert_exporter": "python",
   "pygments_lexer": "ipython3",
   "version": "3.10.4"
  }
 },
 "nbformat": 4,
 "nbformat_minor": 5
}
