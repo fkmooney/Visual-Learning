{
 "cells": [
  {
   "cell_type": "code",
   "execution_count": 9,
   "id": "a3917b32-1730-48ea-8f08-9e33b7660b94",
   "metadata": {},
   "outputs": [],
   "source": [
    "def setup():\n",
    "    size(6000, 6000)\n",
    "    background(245)\n",
    "    stroke_weight(100)\n",
    "    stroke(30)\n",
    "    no_fill()"
   ]
  },
  {
   "cell_type": "code",
   "execution_count": 10,
   "id": "f7b1edf8-b68a-41a3-b722-d94938039d29",
   "metadata": {},
   "outputs": [],
   "source": [
    "def draw():\n",
    "\n",
    "    w = 6000\n",
    "    h = 6000\n",
    "    \n",
    "    # square 1\n",
    "    for x in range(0,w//2,200):\n",
    "        clip(0,0,w/2, h/2)\n",
    "        line(x,0,x,h)\n",
    "        \n",
    "    # square 2\n",
    "    for y in range(0,h//2,200):\n",
    "        clip(w/2, 0,w,h/2)\n",
    "        line(w/2,y,w,y)\n",
    "   \n",
    "     # sqaure 3\n",
    "    for x in range(0,w,250):\n",
    "        clip(0,h/2,w/2, h)       \n",
    "        line(x-w/2,h/2,x,h)\n",
    "        \n",
    "    # sqaure 4\n",
    "    for x in range(0,w,250):\n",
    "        clip(w/2, h/2, w, h)       \n",
    "        line(x+w/2,h/2,x,h)\n",
    "    \n",
    "    no_clip()\n",
    "    \n",
    "    # framing           \n",
    "    line(w/2,0, w/2,h)\n",
    "    line(0,h/2, w,h/2)\n",
    "    stroke_weight(200) \n",
    "    square(0,0, h)\n",
    "             \n",
    "    no_loop()  \n",
    "    save_frame(\"output.png\")\n"
   ]
  },
  {
   "cell_type": "code",
   "execution_count": 11,
   "id": "58d07401-d847-4b6f-bd03-909fdf0e13a8",
   "metadata": {},
   "outputs": [],
   "source": [
    "run_sketch()\n"
   ]
  },
  {
   "cell_type": "code",
   "execution_count": null,
   "id": "b6368df7-ca8c-46ca-a866-43173e679671",
   "metadata": {},
   "outputs": [],
   "source": []
  }
 ],
 "metadata": {
  "kernelspec": {
   "display_name": "py5",
   "language": "python",
   "name": "py5"
  },
  "language_info": {
   "codemirror_mode": {
    "name": "ipython",
    "version": 3
   },
   "file_extension": ".py",
   "mimetype": "text/x-python",
   "name": "python",
   "nbconvert_exporter": "python",
   "pygments_lexer": "ipython3",
   "version": "3.10.4"
  }
 },
 "nbformat": 4,
 "nbformat_minor": 5
}
