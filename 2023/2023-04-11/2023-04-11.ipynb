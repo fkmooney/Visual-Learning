{
 "cells": [
  {
   "cell_type": "code",
   "execution_count": 41,
   "id": "13f06bc7",
   "metadata": {},
   "outputs": [],
   "source": [
    "def setup():\n",
    "    size(500, 500)\n",
    "    background(200)\n",
    "    fill(0)\n",
    "    frame_rate(15)\n",
    "    i = 0\n",
    "    for y in range(50, 450, 25):\n",
    "        for x in range(50, 450, 25):    \n",
    "            limit = i / 5\n",
    "            push_matrix()\n",
    "            offset_x = random(-limit, limit) / 25\n",
    "            offset_y = random(-limit, limit) / 25\n",
    "            translate(x + offset_x, y + offset_y)\n",
    "            rotate(radians(random(-limit, limit)))\n",
    "            rect(-10, -10, 20, 20, 5)\n",
    "            pop_matrix()\n",
    "            i += 1\n",
    "    save_frame('output-11.jpeg')"
   ]
  },
  {
   "cell_type": "code",
   "execution_count": 42,
   "id": "fddc14a1",
   "metadata": {},
   "outputs": [],
   "source": [
    "run_sketch()"
   ]
  },
  {
   "cell_type": "code",
   "execution_count": null,
   "id": "2c992d66",
   "metadata": {},
   "outputs": [],
   "source": []
  }
 ],
 "metadata": {
  "kernelspec": {
   "display_name": "py5",
   "language": "python",
   "name": "py5"
  },
  "language_info": {
   "codemirror_mode": {
    "name": "ipython",
    "version": 3
   },
   "file_extension": ".py",
   "mimetype": "text/x-python",
   "name": "python",
   "nbconvert_exporter": "python",
   "pygments_lexer": "ipython3",
   "version": "3.10.4"
  }
 },
 "nbformat": 4,
 "nbformat_minor": 5
}
