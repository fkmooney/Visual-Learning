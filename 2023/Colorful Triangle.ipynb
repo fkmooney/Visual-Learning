{
 "cells": [
  {
   "cell_type": "code",
   "execution_count": 2,
   "id": "ea5846ee",
   "metadata": {},
   "outputs": [],
   "source": [
    "from itertools import chain\n",
    "\n",
    "s = 1000\n",
    "\n",
    "def setup():\n",
    "    size(600, 600)\n",
    "    random_seed(s)\n",
    "    first_triangle()\n",
    "    for _ in range(7):\n",
    "        tris[:] = divide_triangles(tris)\n",
    "    \n",
    "def first_triangle():\n",
    "    global tris\n",
    "    R, cx, cy = 300, width / 2, height * 0.60\n",
    "    first_triangle = []\n",
    "    for i in range(3):\n",
    "        a = i * TWO_PI / 3 - TWO_PI / 4\n",
    "        x = cx + R  * cos(a)\n",
    "        y = cy + R  * sin(a)\n",
    "        first_triangle.append((x, y))\n",
    "    tris = [tuple(first_triangle)]\n",
    "\n",
    "def draw():\n",
    "    background(240)\n",
    "    no_fill()\n",
    "    for (va, vb, vc), (vd, ve, vf) in zip(tris, reversed(tris)):\n",
    "        stroke((va[0] * va[1]) % 255, (vd[1] * vd[0])% 255, vd[1] % 255, 100)\n",
    "        #triangle(*va, *vb, *vc)\n",
    "        line(*va, *vf)\n",
    "        \n",
    "def key_pressed():\n",
    "    if key == ' ':\n",
    "        tris[:] = divide_triangles(tris)\n",
    "    elif key == 'n':\n",
    "        random_seed(s)\n",
    "        first_triangle()\n",
    "    elif key == 's':\n",
    "        save_frame('sketch_2022_07_22.png')\n",
    "        \n",
    "def divide_triangles(triangles):\n",
    "    return chain.from_iterable(divide_triangle(tri) for tri in triangles)\n",
    "    \n",
    "def divide_triangle(tri):\n",
    "    r = random(0.33, 0.66)\n",
    "    (vax, vay), (vbx, vby), (vcx, vcy) = a, b, c = tri\n",
    "    mab = lerp(vax, vbx, r), lerp(vay, vby, r)\n",
    "    mcb = (vcx + vbx) / 2, (vcy + vby) / 2\n",
    "    mac = (vax + vcx) / 2, (vay + vcy) / 2\n",
    "    return (a, mac, mab), (mcb, b, mab), (mcb, mac, c)\n",
    "\n",
    "run_sketch()"
   ]
  },
  {
   "cell_type": "code",
   "execution_count": null,
   "id": "c5309a48",
   "metadata": {},
   "outputs": [],
   "source": []
  }
 ],
 "metadata": {
  "kernelspec": {
   "display_name": "py5",
   "language": "python",
   "name": "py5"
  },
  "language_info": {
   "codemirror_mode": {
    "name": "ipython",
    "version": 3
   },
   "file_extension": ".py",
   "mimetype": "text/x-python",
   "name": "python",
   "nbconvert_exporter": "python",
   "pygments_lexer": "ipython3",
   "version": "3.10.4"
  }
 },
 "nbformat": 4,
 "nbformat_minor": 5
}
