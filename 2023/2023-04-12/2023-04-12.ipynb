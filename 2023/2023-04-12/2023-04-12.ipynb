{
 "cells": [
  {
   "cell_type": "code",
   "execution_count": 21,
   "id": "4954a080",
   "metadata": {},
   "outputs": [],
   "source": [
    "v = 5\n",
    "esp = 40\n",
    "\n",
    "def setup():\n",
    "    size(600, 600)\n",
    "    \n",
    "\n",
    "def trapezoid(x, y, w, h, varia=0, flip=False):\n",
    "    vy = random(-varia, varia) \n",
    "    x1, y1 = x + random(-varia, varia), y + vy\n",
    "    x2, y2 = x + random(-varia, varia) + w, y + vy\n",
    "    x3, y3 = x + random(-varia, varia)+ w, y + h + vy\n",
    "    x4, y4 = x + random(-varia, varia), y + h + vy    \n",
    "    if flip:\n",
    "        x1, y1 = (y1 - y) + x, -(x1 - x) + y + h,  \n",
    "        x2, y2 = (y2 - y) + x, -(x2 - x) + y + h,  \n",
    "        x3, y3 = (y3 - y) + x, -(x3 - x) + y + h,  \n",
    "        x4, y4 = (y4 - y) + x, -(x4 - x) + y + h,  \n",
    "    quad(x1, y1, x2, y2, x3, y3, x4, y4)\n",
    "    \n",
    "\n",
    "def grade(magrin, esp, wid, hei, v):\n",
    "    random_seed(1)  # trava os sorteios\n",
    "    for x in range(magrin, wid - magrin , esp):\n",
    "        for y in range(magrin, hei - magrin, esp):\n",
    "            fill(255)\n",
    "            no_stroke()\n",
    "            trapezoid(x, y, esp / 2, esp / 2, v)\n",
    "            stroke(0)\n",
    "            stroke_weight(2)\n",
    "            no_fill()\n",
    "            trapezoid(x, y, esp / 2, esp / 2, v, flip=True)\n",
    "\n",
    "            \n",
    "def draw():\n",
    "    background(200, 100, 100)\n",
    "    grade(100, esp, width, height, v)\n",
    "    save_frame('output-12.jpeg')"
   ]
  },
  {
   "cell_type": "code",
   "execution_count": 22,
   "id": "b4f31893",
   "metadata": {},
   "outputs": [],
   "source": [
    "run_sketch()"
   ]
  },
  {
   "cell_type": "code",
   "execution_count": null,
   "id": "c06d7f32",
   "metadata": {},
   "outputs": [],
   "source": []
  }
 ],
 "metadata": {
  "kernelspec": {
   "display_name": "py5",
   "language": "python",
   "name": "py5"
  },
  "language_info": {
   "codemirror_mode": {
    "name": "ipython",
    "version": 3
   },
   "file_extension": ".py",
   "mimetype": "text/x-python",
   "name": "python",
   "nbconvert_exporter": "python",
   "pygments_lexer": "ipython3",
   "version": "3.10.4"
  }
 },
 "nbformat": 4,
 "nbformat_minor": 5
}
