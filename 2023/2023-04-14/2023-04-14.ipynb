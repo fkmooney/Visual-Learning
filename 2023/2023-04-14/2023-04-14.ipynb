{
 "cells": [
  {
   "cell_type": "code",
   "execution_count": 7,
   "id": "3570a4f5",
   "metadata": {},
   "outputs": [],
   "source": [
    "from itertools import combinations\n",
    "\n",
    "combos = []\n",
    "\n",
    "def setup():\n",
    "    size(600, 600)\n",
    "    background(240)\n",
    "    n = 8\n",
    "    step = TWO_PI / n\n",
    "    pts = []\n",
    "    for i in range(n):\n",
    "        a = HALF_PI + i * step\n",
    "        x = 300 + 250 * cos(a)\n",
    "        y = 300 + 250 * sin(a)\n",
    "        pts.append((x, y))\n",
    "    combos[:] = list(combinations(pts, 2))\n",
    "\n",
    "# def draw():\n",
    "#     background(200)\n",
    "#     scale(3)\n",
    "#     stroke(0)\n",
    "#     dashed(10, 10, mouse_x, mouse_y)\n",
    "#     stroke(255, 0, 0)\n",
    "#     point(10, 10)\n",
    "#     point(mouse_x, mouse_y)\n",
    "    for (ax, ay), (bx, by) in combos:\n",
    "        dashed(ax, ay, bx, by)\n",
    "    save_frame('output.jpeg')   \n",
    "\n",
    "def dashed(ax, ay, bx, by, u=20, a=0.5):\n",
    "    mx, my = (ax + bx) / 2, (ay + by) / 2\n",
    "    h_dashed(ax, ay, mx, my)\n",
    "    h_dashed(bx, by, mx, my)\n",
    "\n",
    "def h_dashed(ax, ay, bx, by, u=20, a=0.5):\n",
    "    d = dist(ax, ay, bx, by)               # Line length\n",
    "    if d:\n",
    "        ux, uy = (bx - ax) / d, (by - ay) / d  # A \"unit vector\" of the line\n",
    "        nx, ny = uy, -ux                       # Normal direction\n",
    "        n = d // u\n",
    "        stroke(0)\n",
    "        ru = min(u * a, (d - u * n)) \n",
    "        x, y = ax, ay\n",
    "        for i in range(int(n)):\n",
    "            xd, yd = x + ux * u * a, y + uy * u * a\n",
    "            line(x, y, xd, yd)\n",
    "            x += ux * u\n",
    "            y += uy * u\n",
    "        #stroke(0, 0, 100)\n",
    "        line(x, y, x + ux * ru, y + uy * ru)     "
   ]
  },
  {
   "cell_type": "code",
   "execution_count": 8,
   "id": "138a0fe5",
   "metadata": {},
   "outputs": [],
   "source": [
    "run_sketch()"
   ]
  },
  {
   "cell_type": "code",
   "execution_count": null,
   "id": "f6a684d8",
   "metadata": {},
   "outputs": [],
   "source": []
  }
 ],
 "metadata": {
  "kernelspec": {
   "display_name": "py5",
   "language": "python",
   "name": "py5"
  },
  "language_info": {
   "codemirror_mode": {
    "name": "ipython",
    "version": 3
   },
   "file_extension": ".py",
   "mimetype": "text/x-python",
   "name": "python",
   "nbconvert_exporter": "python",
   "pygments_lexer": "ipython3",
   "version": "3.10.4"
  }
 },
 "nbformat": 4,
 "nbformat_minor": 5
}
