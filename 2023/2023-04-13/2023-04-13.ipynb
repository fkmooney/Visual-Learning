{
 "cells": [
  {
   "cell_type": "code",
   "execution_count": 15,
   "id": "f4085522",
   "metadata": {},
   "outputs": [],
   "source": [
    "v = 5\n",
    "esp = 40\n",
    "\n",
    "def trapezoid(x, y, w, h, varia=0):\n",
    "    vy = random(-varia, varia) \n",
    "    x1, y1 = x + random(-varia, varia), y + vy\n",
    "    x2, y2 = x + random(-varia, varia) + w, y + vy\n",
    "    x3, y3 = x + random(-varia, varia)+ w, y + h + vy\n",
    "    x4, y4 = x + random(-varia, varia), y + h + vy\n",
    "    quad(x1, y1, x2, y2, x3, y3, x4, y4)\n",
    "\n",
    "def grade(margin, esp, wid, hei, v):\n",
    "    for x in range(margin, wid - margin , esp):\n",
    "        for y in range(margin, hei - margin, esp):\n",
    "            trapezoid(x, y, esp / 2, esp / 2, v)\n",
    "\n",
    "def setup():\n",
    "    size(600, 600)\n",
    "    no_stroke()\n",
    "\n",
    "def draw():\n",
    "    background(240)\n",
    "    random_seed(12)  \n",
    "    grade(100, esp, 600, 600, v)\n",
    "    save_frame('output-13.jpeg')"
   ]
  },
  {
   "cell_type": "code",
   "execution_count": 16,
   "id": "fdd0b4f3",
   "metadata": {},
   "outputs": [],
   "source": [
    "run_sketch()"
   ]
  }
 ],
 "metadata": {
  "kernelspec": {
   "display_name": "py5",
   "language": "python",
   "name": "py5"
  },
  "language_info": {
   "codemirror_mode": {
    "name": "ipython",
    "version": 3
   },
   "file_extension": ".py",
   "mimetype": "text/x-python",
   "name": "python",
   "nbconvert_exporter": "python",
   "pygments_lexer": "ipython3",
   "version": "3.10.4"
  }
 },
 "nbformat": 4,
 "nbformat_minor": 5
}
