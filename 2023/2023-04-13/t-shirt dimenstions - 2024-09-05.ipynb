{
 "cells": [
  {
   "cell_type": "code",
   "execution_count": 23,
   "id": "f7b1edf8-b68a-41a3-b722-d94938039d29",
   "metadata": {},
   "outputs": [],
   "source": [
    "v = 50\n",
    "esp = 400\n",
    "\n",
    "def trapezoid(x, y, w, h, varia=0):\n",
    "    vy = random(-varia, varia) \n",
    "    x1, y1 = x + random(-varia, varia), y + vy\n",
    "    x2, y2 = x + random(-varia, varia) + w, y + vy\n",
    "    x3, y3 = x + random(-varia, varia)+ w, y + h + vy\n",
    "    x4, y4 = x + random(-varia, varia), y + h + vy\n",
    "    quad(x1, y1, x2, y2, x3, y3, x4, y4)\n",
    "\n",
    "def grade(margin, esp, wid, hei, v):\n",
    "    for x in range(margin, wid - margin , esp):\n",
    "        for y in range(margin, hei - margin, esp):\n",
    "            trapezoid(x, y, esp / 2, esp / 2, v)\n",
    "\n",
    "def setup():\n",
    "    size(5840, 5840)\n",
    "    no_stroke()\n",
    "\n",
    "def draw():\n",
    "    background(240)\n",
    "    random_seed(12)  \n",
    "    grade(1000, esp, 6000, 6000, v)\n",
    "    save_frame('output-13.jpeg')"
   ]
  },
  {
   "cell_type": "code",
   "execution_count": 24,
   "id": "58d07401-d847-4b6f-bd03-909fdf0e13a8",
   "metadata": {},
   "outputs": [],
   "source": [
    "run_sketch()"
   ]
  },
  {
   "cell_type": "code",
   "execution_count": null,
   "id": "e12320f1-d3e5-4bbe-aaad-f23a7b78a04e",
   "metadata": {},
   "outputs": [],
   "source": []
  },
  {
   "cell_type": "code",
   "execution_count": null,
   "id": "0aa588e8-05c4-4521-b656-efe239662617",
   "metadata": {},
   "outputs": [],
   "source": []
  }
 ],
 "metadata": {
  "kernelspec": {
   "display_name": "py5",
   "language": "python",
   "name": "py5"
  },
  "language_info": {
   "codemirror_mode": {
    "name": "ipython",
    "version": 3
   },
   "file_extension": ".py",
   "mimetype": "text/x-python",
   "name": "python",
   "nbconvert_exporter": "python",
   "pygments_lexer": "ipython3",
   "version": "3.10.4"
  }
 },
 "nbformat": 4,
 "nbformat_minor": 5
}
