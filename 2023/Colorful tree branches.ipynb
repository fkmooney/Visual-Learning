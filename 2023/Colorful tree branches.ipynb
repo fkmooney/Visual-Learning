{
 "cells": [
  {
   "cell_type": "code",
   "execution_count": 13,
   "id": "1db2a04f",
   "metadata": {},
   "outputs": [],
   "source": [
    "# colorful tree / árvore colorida\n",
    " \n",
    "def setup():\n",
    "    size(600, 600)\n",
    "    color_mode(HSB)\n",
    "\n",
    "def draw(): # laço/loop principal (ele fica repetindo)\n",
    "    background(240)\n",
    "    galho(300, 500, 90, -HALF_PI)\n",
    "    \n",
    "def galho(x, y, length, direction):\n",
    "    nx = x  + length * cos(direction)\n",
    "    ny = y  + length * sin(direction)\n",
    "    angle = radians(30)\n",
    "    stroke((20 * direction) % 255, 200, 200)\n",
    "    line(x, y, nx, ny) #x1, y1, x2, y2\n",
    "    shorten = 0.75 # reduz 20% quando multiplica\n",
    "    if length > 7:\n",
    "        galho(nx, ny, length * shorten, direction + angle)\n",
    "        galho(nx, ny, length * shorten, direction - angle)\n"
   ]
  },
  {
   "cell_type": "code",
   "execution_count": 14,
   "id": "6d5dfffb",
   "metadata": {},
   "outputs": [],
   "source": [
    "# this is needed to run the Sketch in Jupyter Notebooks; see note below\n",
    "run_sketch()"
   ]
  },
  {
   "cell_type": "code",
   "execution_count": null,
   "id": "67cd7f38",
   "metadata": {},
   "outputs": [],
   "source": []
  }
 ],
 "metadata": {
  "kernelspec": {
   "display_name": "py5",
   "language": "python",
   "name": "py5"
  },
  "language_info": {
   "codemirror_mode": {
    "name": "ipython",
    "version": 3
   },
   "file_extension": ".py",
   "mimetype": "text/x-python",
   "name": "python",
   "nbconvert_exporter": "python",
   "pygments_lexer": "ipython3",
   "version": "3.10.4"
  }
 },
 "nbformat": 4,
 "nbformat_minor": 5
}
