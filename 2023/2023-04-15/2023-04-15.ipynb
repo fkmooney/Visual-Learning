{
 "cells": [
  {
   "cell_type": "code",
   "execution_count": 93,
   "id": "7bdbcdf0",
   "metadata": {},
   "outputs": [],
   "source": [
    "import numpy as np\n",
    "from random import shuffle\n",
    "\n",
    "noise_increment = 0.008 # adj to make globs bigger/smaller\n",
    "\n",
    "def setup():\n",
    "    global mesh_x, mesh_y, r_map, g_map, b_map\n",
    "    size(600, 600)\n",
    "    color_mode(HSB)\n",
    "    cs = [color(int(h / 2) + 74, 128 + h / 6, 255) # adjust to change pallet\n",
    "           for h in range(256)]\n",
    "    #shuffle(cs)\n",
    "    r_map =  np.array([c >> 16 & 0xFF for c in cs]) # adjust to change pallet\n",
    "    g_map =  np.array([c >> 8 & 0xFF for c in cs]) # adj to creat diff effects\n",
    "    b_map =  np.array([c   & 0xFF for c in cs])\n",
    "\n",
    "\n",
    "    mesh_x, mesh_y = np.meshgrid(\n",
    "        np.arange(0, width * noise_increment, noise_increment),\n",
    "        np.arange(0, height * noise_increment, noise_increment)\n",
    "    )\n"
   ]
  },
  {
   "cell_type": "code",
   "execution_count": 94,
   "id": "3a49b1ca",
   "metadata": {},
   "outputs": [],
   "source": [
    "def draw():    \n",
    "    h = remap(os_noise(mesh_x, mesh_y, frame_count * noise_increment),\n",
    "              -1, 1, 0, 255).astype(np.uint8)\n",
    "    R = r_map[h]\n",
    "    G = g_map[np.flip(h)]\n",
    "    B = b_map[h.T]\n",
    "    npa = np.dstack((R, G, B))\n",
    "\n",
    "    set_np_pixels(npa, bands=\"L\")\n",
    "    window_title(str(round(get_frame_rate(), 1)))\n",
    "    \n",
    "    save('output.jpg')"
   ]
  },
  {
   "cell_type": "code",
   "execution_count": 95,
   "id": "392978c9",
   "metadata": {},
   "outputs": [],
   "source": [
    "run_sketch()"
   ]
  },
  {
   "cell_type": "code",
   "execution_count": null,
   "id": "dcfcb6f9",
   "metadata": {},
   "outputs": [],
   "source": []
  }
 ],
 "metadata": {
  "kernelspec": {
   "display_name": "py5",
   "language": "python",
   "name": "py5"
  },
  "language_info": {
   "codemirror_mode": {
    "name": "ipython",
    "version": 3
   },
   "file_extension": ".py",
   "mimetype": "text/x-python",
   "name": "python",
   "nbconvert_exporter": "python",
   "pygments_lexer": "ipython3",
   "version": "3.10.4"
  }
 },
 "nbformat": 4,
 "nbformat_minor": 5
}
