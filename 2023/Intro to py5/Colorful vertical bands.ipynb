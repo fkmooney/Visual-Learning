{
 "cells": [
  {
   "cell_type": "code",
   "execution_count": 1,
   "id": "461e99b9",
   "metadata": {},
   "outputs": [],
   "source": [
    "# Based on Tom Larrow's experiment at:\n",
    "# https://codeberg.org/TomLarrow/creative-coding-experiments/src/branch/main/x_0049/x_0049.py\n",
    "import numpy as np\n",
    "\n",
    "def setup():\n",
    "    size(800, 800)\n",
    "\n",
    "def draw():\n",
    "    no_loop()\n",
    "    no_stroke()\n",
    "    color_mode(HSB)\n",
    "\n",
    "\n",
    "    background(150, 100, 100)     \n",
    "    margin = width / 16  # Give us a margin on the right\n",
    "    x = margin\n",
    "    while x < width - margin:\n",
    "        w = random_int(2, 7) * 5\n",
    "        h = height * random_int(5, 10) / 12\n",
    "        y = (height - h) / 2\n",
    "        if x + w > width - margin:\n",
    "            w = (width - margin) - x\n",
    "        fill(w * 8, 200, 200)\n",
    "        rect(x, y, w, h) \n",
    "        x += w    \n",
    "\n",
    "    # Now that we have the image above, lets add grain, but only to the parts\n",
    "    # that aren't the background\n",
    "    load_np_pixels()  # Load the processing pixel array as an uint8 numpy array\n",
    "    # Build a new numpy array the same size to hold our noise, and fill it with random values\n",
    "    # It is an signed 16 array, so that it can handle negative numbers and\n",
    "    # buffer overflows\n",
    "    noise_pixels = np.random.randint(-50, 50, size=(width, height, 4))\n",
    "    # np_pixels gives each pixel in an [A, R, G, B] format. We don't want to mess with the alpha, so setting\n",
    "    # all the alpha values to zero, so that they don't change when we start\n",
    "    # doing math on the array\n",
    "    noise_pixels[:, :, 0] = 0\n",
    "    # Add the contents of np_pixels to our noise_pixels array\n",
    "    # This gives us an array where every pixel is adjusted by noise\n",
    "    noise_pixels += np_pixels\n",
    "    # Because our noise_pixels array is a signed 16-bit integer it can have negative numbers or numbers greater than 255\n",
    "    # So we clip them to stay in those bounds to avoid buffer overflows once\n",
    "    # we go back to uint8\n",
    "    noise_pixels = np.clip(noise_pixels, 0, 255)\n",
    "    # the numpy where function lets us make decisions based on a condition\n",
    "    # I know that pixel 0,0 is a background color, so I compare each pixel to 0,0 to see if it's the background or not\n",
    "    # If it is the background, copy in the value for that pixel from np_pixels (which is just our background)\n",
    "    # Otherwise, copy in the value from our noise_pixels\n",
    "    # This is how we end up with only the foreground components having grain\n",
    "    my_display = np.where(np_pixels == np_pixels[0, 0], np_pixels, noise_pixels)\n",
    "    set_np_pixels(my_display)  # Copy our new array back to np_pixels\n",
    "    update_pixels()  # And run update_pixels() to actually see the results\n",
    "\n",
    "run_sketch()"
   ]
  },
  {
   "cell_type": "code",
   "execution_count": null,
   "id": "2c77091c",
   "metadata": {},
   "outputs": [],
   "source": []
  }
 ],
 "metadata": {
  "kernelspec": {
   "display_name": "py5",
   "language": "python",
   "name": "py5"
  },
  "language_info": {
   "codemirror_mode": {
    "name": "ipython",
    "version": 3
   },
   "file_extension": ".py",
   "mimetype": "text/x-python",
   "name": "python",
   "nbconvert_exporter": "python",
   "pygments_lexer": "ipython3",
   "version": "3.10.4"
  }
 },
 "nbformat": 4,
 "nbformat_minor": 5
}
