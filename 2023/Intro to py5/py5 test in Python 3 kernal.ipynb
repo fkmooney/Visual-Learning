{
 "cells": [
  {
   "cell_type": "code",
   "execution_count": 1,
   "id": "e6d292e7",
   "metadata": {},
   "outputs": [],
   "source": [
    "# importing py5 allows for integrtion into a python script but requires more definition than the old Processing editor\n",
    "# to just make impages, easier to call the py5 kernal as most similar to Processing editor\n",
    "\n",
    "from IPython.display import display\n",
    "import py5"
   ]
  },
  {
   "cell_type": "code",
   "execution_count": 2,
   "id": "f3df5e7e",
   "metadata": {},
   "outputs": [],
   "source": [
    "def draw_square(s: py5.Sketch):\n",
    "    s.background(240)\n",
    "    s.rect_mode(s.CENTER)\n",
    "    s.fill(255, 0, 0)\n",
    "    s.rect(s.width / 2, s.height / 2, 50, 50)"
   ]
  },
  {
   "cell_type": "code",
   "execution_count": 3,
   "id": "ebcae976",
   "metadata": {},
   "outputs": [
    {
     "name": "stdout",
     "output_type": "stream",
     "text": [
      "<class 'PIL.Image.Image'>\n"
     ]
    }
   ],
   "source": [
    "img = py5.render_frame(draw_square, 200, 200)\n",
    "\n",
    "print(type(img))"
   ]
  },
  {
   "cell_type": "code",
   "execution_count": 4,
   "id": "e15c2ee2",
   "metadata": {},
   "outputs": [
    {
     "data": {
      "image/png": "[encoded data removed]",
      "text/plain": [
       "<PIL.Image.Image image mode=RGB size=200x200 at 0x242C530F700>"
      ]
     },
     "execution_count": 4,
     "metadata": {},
     "output_type": "execute_result"
    }
   ],
   "source": [
    "img"
   ]
  },
  {
   "cell_type": "code",
   "execution_count": 5,
   "id": "3c657760",
   "metadata": {},
   "outputs": [],
   "source": [
    "def draw_square(s: py5.Sketch, fill_color, square_size):\n",
    "    s.background(240)\n",
    "    s.rect_mode(s.CENTER)\n",
    "    s.fill(*fill_color)\n",
    "    s.rect(s.width / 2, s.height / 2, square_size, square_size)"
   ]
  },
  {
   "cell_type": "code",
   "execution_count": 6,
   "id": "fd439f76",
   "metadata": {},
   "outputs": [
    {
     "data": {
      "image/png": "[encoded data removed]",
      "text/plain": [
       "<PIL.Image.Image image mode=RGB size=200x200 at 0x242866A1840>"
      ]
     },
     "execution_count": 6,
     "metadata": {},
     "output_type": "execute_result"
    }
   ],
   "source": [
    "img = py5.render_frame(draw_square, 200, 200,\n",
    "                       draw_kwargs=dict(fill_color=(255, 0, 255), square_size=100))\n",
    "\n",
    "img"
   ]
  },
  {
   "cell_type": "code",
   "execution_count": null,
   "id": "05ff2aae",
   "metadata": {},
   "outputs": [],
   "source": []
  }
 ],
 "metadata": {
  "kernelspec": {
   "display_name": "Python 3 (ipykernel)",
   "language": "python",
   "name": "python3"
  },
  "language_info": {
   "codemirror_mode": {
    "name": "ipython",
    "version": 3
   },
   "file_extension": ".py",
   "mimetype": "text/x-python",
   "name": "python",
   "nbconvert_exporter": "python",
   "pygments_lexer": "ipython3",
   "version": "3.10.4"
  }
 },
 "nbformat": 4,
 "nbformat_minor": 5
}
