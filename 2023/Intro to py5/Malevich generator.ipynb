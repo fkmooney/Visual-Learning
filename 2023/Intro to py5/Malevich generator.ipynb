{
 "cells": [
  {
   "cell_type": "code",
   "execution_count": 1,
   "id": "ca756c80",
   "metadata": {},
   "outputs": [],
   "source": [
    "# the below runs the notebook with the py5 kernal\n",
    "# this allows for set up similar to Processing Editor\n",
    "\n",
    "from random import choice\n",
    "from line_geometry import point_inside_poly, rect_points\n",
    "\n",
    "rects = []\n",
    "dims = (40, 80, 120, 160, 200)\n",
    "\n",
    "def setup():\n",
    "    size(700, 700)\n",
    "    #no_loop() # for debug\n",
    "   \n",
    "def draw():\n",
    "    background(200)\n",
    "    \n",
    "    if len(rects) < 10:\n",
    "        ox, oy = random(100, width - 100), random(100, height - 100)\n",
    "        w = choice(dims)\n",
    "        h = choice(dims)\n",
    "        a = radians(45 + random(-1, 1) * 2)\n",
    "        nr = rect_points(ox, oy, w, h, mode=CENTER, angle=a)\n",
    "        good = True\n",
    "        for r in rects:\n",
    "            if good == False:\n",
    "                break\n",
    "            for p in r:\n",
    "                if point_inside_poly(p, nr):\n",
    "                    #circle(*p, 5)\n",
    "                    good = False\n",
    "                    break\n",
    "            for p in nr:\n",
    "                if point_inside_poly(p, r):\n",
    "                    #circle(*p, 5)\n",
    "                    good = False\n",
    "                    break\n",
    "        if good == False:\n",
    "            return\n",
    "        rects.append(nr)\n",
    "        \n",
    "    #no_fill()\n",
    "    fill(0)\n",
    "    for r in rects:\n",
    "        with begin_closed_shape():\n",
    "            vertices(r)\n",
    "            \n",
    "def key_pressed():\n",
    "    rects[:] = []\n"
   ]
  },
  {
   "cell_type": "code",
   "execution_count": 2,
   "id": "4878f874",
   "metadata": {},
   "outputs": [],
   "source": [
    "# this is needed to run the Sketch in Jupyter Notebooks; see note below\n",
    "run_sketch()"
   ]
  },
  {
   "cell_type": "code",
   "execution_count": null,
   "id": "7bafc73e",
   "metadata": {},
   "outputs": [],
   "source": []
  }
 ],
 "metadata": {
  "kernelspec": {
   "display_name": "py5",
   "language": "python",
   "name": "py5"
  },
  "language_info": {
   "codemirror_mode": {
    "name": "ipython",
    "version": 3
   },
   "file_extension": ".py",
   "mimetype": "text/x-python",
   "name": "python",
   "nbconvert_exporter": "python",
   "pygments_lexer": "ipython3",
   "version": "3.10.4"
  }
 },
 "nbformat": 4,
 "nbformat_minor": 5
}
