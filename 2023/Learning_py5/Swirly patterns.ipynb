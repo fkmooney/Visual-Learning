{
 "cells": [
  {
   "cell_type": "code",
   "execution_count": 1,
   "id": "0b9cfa57",
   "metadata": {},
   "outputs": [],
   "source": [
    "# from sketch a day, had to remove setup and draw and move size to top\n",
    "import numpy as np\n",
    "from random import shuffle\n",
    "\n",
    "def setup():\n",
    "    size(500, 500)\n",
    "\n",
    "\n",
    "def draw():\n",
    "    noise_increment = 0.003\n",
    "\n",
    "    global mesh_x, mesh_y, rgb_map, g_map, b_map\n",
    "\n",
    "    color_mode(HSB)\n",
    "    cs = [color(int(h / 8) * 4 + 164, 90 + h / 2, 255) for h in range(256)]\n",
    "    shuffle(cs)\n",
    "    rgb_map =  np.dstack((\n",
    "        [c >> 16 & 0xFF for c in cs],\n",
    "        [c >> 8 & 0xFF for c in cs],\n",
    "        [c & 0xFF for c in cs]\n",
    "        ))\n",
    "\n",
    "    mesh_x, mesh_y = np.meshgrid(\n",
    "        np.arange(0, width * noise_increment, noise_increment),\n",
    "        np.arange(0, height * noise_increment, noise_increment))\n",
    "\n",
    "    h = remap(os_noise(mesh_x, mesh_y, frame_count * noise_increment), -1, 1, 0, 255).astype(np.uint8)\n",
    "    npa = rgb_map[:, h]\n",
    "    set_np_pixels(npa, bands=\"RGB\")\n",
    "    window_title(str(round(get_frame_rate(), 1)))\n",
    "    \n",
    "run_sketch()"
   ]
  },
  {
   "cell_type": "code",
   "execution_count": 2,
   "id": "5741f6ae",
   "metadata": {},
   "outputs": [],
   "source": [
    "save('swirly patterns.jpg')"
   ]
  },
  {
   "cell_type": "code",
   "execution_count": null,
   "id": "e13561cf",
   "metadata": {},
   "outputs": [],
   "source": []
  }
 ],
 "metadata": {
  "kernelspec": {
   "display_name": "py5",
   "language": "python",
   "name": "py5"
  },
  "language_info": {
   "codemirror_mode": {
    "name": "ipython",
    "version": 3
   },
   "file_extension": ".py",
   "mimetype": "text/x-python",
   "name": "python",
   "nbconvert_exporter": "python",
   "pygments_lexer": "ipython3",
   "version": "3.10.4"
  }
 },
 "nbformat": 4,
 "nbformat_minor": 5
}
