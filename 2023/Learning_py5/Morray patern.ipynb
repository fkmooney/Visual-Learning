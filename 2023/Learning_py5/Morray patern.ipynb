{
 "cells": [
  {
   "cell_type": "code",
   "execution_count": 1,
   "id": "9969da53",
   "metadata": {},
   "outputs": [],
   "source": [
    "from arcs import arc_corner\n",
    "\n",
    "def setup():\n",
    "    size(500, 500, P2D)\n",
    "    smooth(8)\n",
    "    background(240)\n",
    "    for x in range(-600, 600, 10):\n",
    "        stroke_weight(3)\n",
    "        stroke(0, 255, 0)\n",
    "        wave(x,  - x, x + 600, 600 - x, 1 +abs(x /10), n=8)\n",
    "        stroke(0, 0, 255)\n",
    "        wave(x + 600,  x, x, 600 + x, 1 + abs(x / 5), n=8)\n",
    "        stroke(0)\n",
    "        #line(x, 0, x, height)\n",
    "        \n",
    "    #save('out.png')\n",
    "\n",
    "def wave(x1, y1, x2, y2, s=None, n=2, r=19):\n",
    "    L = dist(x1, y1, x2, y2)\n",
    "    if not s:\n",
    "        s = int(max(L / 5, 10))\n",
    "    no_fill()\n",
    "    with push_matrix():\n",
    "        translate(x1, y1)\n",
    "        angle = atan2(x1 - x2, y2 - y1)\n",
    "        rotate(angle)\n",
    "        offset = 0\n",
    "        dy = L / (n + 2.)\n",
    "        point_L = []\n",
    "        point_L.append((0, 0))\n",
    "        with begin_shape():\n",
    "            vertex(0, 0)\n",
    "            for i in range(1, n + 1):\n",
    "                point_L.append((0, i * dy))\n",
    "                if i % 2:\n",
    "                    point_L.append((-s, i * dy + dy / 2.))\n",
    "                    point_L.append((0, i * dy + dy))\n",
    "                else:\n",
    "                    point_L.append((s, i * dy + dy / 2.))\n",
    "                    point_L.append((0, i * dy + dy))\n",
    "            point_L.append((0, L))\n",
    "            for p0, p1, p2 in zip(point_L[:-2],\n",
    "                                  point_L[1:-1],\n",
    "                                  point_L[2:]\n",
    "                                  ):\n",
    "                m01 = (p0[0] + p1[0]) / 2, (p0[1] + p1[1]) / 2\n",
    "                m12 = (p1[0] + p2[0]) / 2, (p1[1] + p2[1]) / 2\n",
    "                arc_corner(p1, m12, m01, r)\n",
    "            vertex(0, L)"
   ]
  },
  {
   "cell_type": "code",
   "execution_count": 2,
   "id": "8c57b426",
   "metadata": {},
   "outputs": [],
   "source": [
    "# this is needed to run the Sketch in Jupyter Notebooks; see note below\n",
    "run_sketch()"
   ]
  },
  {
   "cell_type": "code",
   "execution_count": 3,
   "id": "da4229df",
   "metadata": {},
   "outputs": [],
   "source": [
    "save('morray pattern.jpg')"
   ]
  },
  {
   "cell_type": "code",
   "execution_count": null,
   "id": "20dd51ab",
   "metadata": {},
   "outputs": [],
   "source": []
  }
 ],
 "metadata": {
  "kernelspec": {
   "display_name": "py5",
   "language": "python",
   "name": "py5"
  },
  "language_info": {
   "codemirror_mode": {
    "name": "ipython",
    "version": 3
   },
   "file_extension": ".py",
   "mimetype": "text/x-python",
   "name": "python",
   "nbconvert_exporter": "python",
   "pygments_lexer": "ipython3",
   "version": "3.10.4"
  }
 },
 "nbformat": 4,
 "nbformat_minor": 5
}
