{
 "cells": [
  {
   "cell_type": "code",
   "execution_count": 1,
   "id": "d68c406c",
   "metadata": {},
   "outputs": [
    {
     "name": "stdout",
     "output_type": "stream",
     "text": [
      "Configurations: 120\n"
     ]
    }
   ],
   "source": [
    "from itertools import product, combinations\n",
    "\n",
    "W = 40 # Width base-value for configs\n",
    "EL_COLOR = 255\n",
    "GRID_COLOR = 0\n",
    "SCALE = 1\n",
    "\n",
    "def setup():\n",
    "    size(820 * SCALE, 700 * SCALE)\n",
    "    scale(SCALE)\n",
    "    no_stroke()\n",
    "    # 16 grid positions\n",
    "    elements = list(product((-1.5, -0.5, 0.5, 1.5), repeat=2))  \n",
    "    # combinations (membership only counts, not order)\n",
    "    combos = list(combinations(elements, 2))\n",
    "    print(f'Configurations: {len(combos)}')\n",
    "    \n",
    "    x = y = W * 2\n",
    "    for config in combos:\n",
    "        no_stroke()\n",
    "        fill(GRID_COLOR)\n",
    "        for xo, yo in elements:\n",
    "            circle(x + xo * W / 3,\n",
    "                   y + yo * W / 3,\n",
    "                   W / 12)\n",
    "        fill(EL_COLOR)\n",
    "        for xo, yo in config:\n",
    "            circle(x + xo * W / 3,\n",
    "                   y + yo * W / 3,\n",
    "                   W / 6)\n",
    "        stroke_weight(W / 10)\n",
    "        stroke(EL_COLOR)\n",
    "        (xa, ya), (xb, yb) = config\n",
    "        line(x + xa * W / 3, y + ya * W / 3,\n",
    "             x + xb * W / 3, y + yb * W / 3)\n",
    "        \n",
    "        x += W * 1.5\n",
    "        if x > width / SCALE - W * 1.5:\n",
    "            x = W * 2\n",
    "            y +=  W * 1.5\n",
    "\n",
    "        #save_frame('sketch_2022_09_15.png')\n",
    "        \n",
    "run_sketch() # this is needed to run the Sketch in Jupyter Notebooks"
   ]
  },
  {
   "cell_type": "code",
   "execution_count": 2,
   "id": "bf9185f1",
   "metadata": {},
   "outputs": [],
   "source": [
    "save('connect dots permutations.jpg')"
   ]
  },
  {
   "cell_type": "code",
   "execution_count": null,
   "id": "8923619d",
   "metadata": {},
   "outputs": [],
   "source": []
  }
 ],
 "metadata": {
  "kernelspec": {
   "display_name": "py5",
   "language": "python",
   "name": "py5"
  },
  "language_info": {
   "codemirror_mode": {
    "name": "ipython",
    "version": 3
   },
   "file_extension": ".py",
   "mimetype": "text/x-python",
   "name": "python",
   "nbconvert_exporter": "python",
   "pygments_lexer": "ipython3",
   "version": "3.10.4"
  }
 },
 "nbformat": 4,
 "nbformat_minor": 5
}
