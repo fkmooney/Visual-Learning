{
 "cells": [
  {
   "cell_type": "code",
   "execution_count": 1,
   "id": "f490341e",
   "metadata": {},
   "outputs": [],
   "source": [
    "# using py5 (py5coding.org) imported mode (ie using py5 kernal)\n",
    "\n",
    "from itertools import product\n",
    "\n",
    "circles = []\n",
    "intersections = []\n",
    "\n",
    "def setup():\n",
    "    size(600, 600)\n",
    "    for x, y in product(range(100, 550, 60), repeat=2): # can make adjustments here\n",
    "        r = random(10, 60)\n",
    "        circles.append((x, y, r))\n",
    "    for xa, ya, ra in circles:\n",
    "        for xb, yb, rb in circles[1:]:\n",
    "            if (xa, ya) != (xb, yb):\n",
    "                pts = calc_cci(xa, ya, ra, xb, yb, rb)\n",
    "                intersections.extend(pts)\n",
    "    background(240)\n",
    "    stroke(100)\n",
    "    no_fill()\n",
    "    for x, y, r in circles:\n",
    "        circle(x, y, r * 2)\n",
    "    no_stroke()\n",
    "    fill(255, 0, 0)\n",
    "    for x, y in intersections:\n",
    "        circle(x, y, 5)\n",
    "    \n",
    "def calc_cci(x0, y0, r0, x1 ,y1, r1):\n",
    "    d = dist(x0, y0, x1, y1)\n",
    "    a = (r0 ** 2-r1 ** 2+d ** 2) / (2 * d)\n",
    "    hsqd = r0 ** 2 - a ** 2\n",
    "    if hsqd == 0:\n",
    "        return [(x0 + a * (x1 - x0) / d, y0 + a * (y1 - y0) / d)]\n",
    "    elif hsqd > 0:\n",
    "        h = sqrt(hsqd)\n",
    "        x2 = x0 + a * (x1 - x0) / d\n",
    "        y2 = y0 + a * (y1 - y0) / d\n",
    "        xa, ya = x2 + h * (y1 - y0) / d, y2 - h * (x1 - x0) / d \n",
    "        xb, yb = x2 - h * (y1 - y0) / d, y2 + h * (x1 - x0) / d\n",
    "        return[(xa, ya), (xb, yb)]\n",
    "    else:\n",
    "        return []"
   ]
  },
  {
   "cell_type": "code",
   "execution_count": 2,
   "id": "81c4301d",
   "metadata": {},
   "outputs": [],
   "source": [
    "# this is needed to run the Sketch in Jupyter Notebooks\n",
    "run_sketch()"
   ]
  },
  {
   "cell_type": "code",
   "execution_count": 3,
   "id": "42121a36",
   "metadata": {},
   "outputs": [],
   "source": [
    "save('grid of circles w intersections.jpeg')"
   ]
  },
  {
   "cell_type": "code",
   "execution_count": null,
   "id": "12453003",
   "metadata": {},
   "outputs": [],
   "source": []
  }
 ],
 "metadata": {
  "kernelspec": {
   "display_name": "py5",
   "language": "python",
   "name": "py5"
  },
  "language_info": {
   "codemirror_mode": {
    "name": "ipython",
    "version": 3
   },
   "file_extension": ".py",
   "mimetype": "text/x-python",
   "name": "python",
   "nbconvert_exporter": "python",
   "pygments_lexer": "ipython3",
   "version": "3.10.4"
  }
 },
 "nbformat": 4,
 "nbformat_minor": 5
}
