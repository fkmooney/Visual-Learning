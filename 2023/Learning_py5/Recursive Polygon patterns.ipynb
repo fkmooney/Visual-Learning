{
 "cells": [
  {
   "cell_type": "code",
   "execution_count": 1,
   "id": "9fa80b03",
   "metadata": {},
   "outputs": [],
   "source": [
    "def setup():\n",
    "    size(700, 700)\n",
    "    background(240)\n",
    "    no_fill()\n",
    "    no_loop()\n",
    "    random_seed(12)\n",
    "\n",
    "def draw():\n",
    "    x = y = width / 2\n",
    "    polygon_recursion(x, y, width / 4)\n",
    "\n",
    "def polygon_recursion(xo, yo, r, n=6):  # n=sides of shape\n",
    "    a = TWO_PI / n\n",
    "    pointset = [(xo + r * cos(i * a), yo + r * sin(i * a))  \n",
    "              for i in range(n)]\n",
    "    sort = random_choice((True, False))\n",
    "    w = width\n",
    "    if r > w / 10 or (sort and r > w / 80):\n",
    "        for x, y in pointset:\n",
    "            stroke_weight(r / 50)\n",
    "            line(x, y, xo, yo)\n",
    "            polygon_recursion(x, y, r / 2, n)\n",
    "    else:\n",
    "        stroke_weight(r / 10)\n",
    "        with begin_closed_shape():\n",
    "            vertices(pointset)\n",
    "\n",
    "def key_pressed(e):\n",
    "    #save_frame('image.png')\n",
    "    redraw()"
   ]
  },
  {
   "cell_type": "code",
   "execution_count": 2,
   "id": "636f527b",
   "metadata": {},
   "outputs": [],
   "source": [
    "# this is needed to run the Sketch in Jupyter Notebooks; see note below\n",
    "run_sketch()"
   ]
  },
  {
   "cell_type": "code",
   "execution_count": 3,
   "id": "362ccdff",
   "metadata": {},
   "outputs": [],
   "source": [
    "save('recursive polygon patterns.jpg')"
   ]
  },
  {
   "cell_type": "code",
   "execution_count": null,
   "id": "683dfbfb",
   "metadata": {},
   "outputs": [],
   "source": []
  }
 ],
 "metadata": {
  "kernelspec": {
   "display_name": "py5",
   "language": "python",
   "name": "py5"
  },
  "language_info": {
   "codemirror_mode": {
    "name": "ipython",
    "version": 3
   },
   "file_extension": ".py",
   "mimetype": "text/x-python",
   "name": "python",
   "nbconvert_exporter": "python",
   "pygments_lexer": "ipython3",
   "version": "3.10.4"
  }
 },
 "nbformat": 4,
 "nbformat_minor": 5
}
