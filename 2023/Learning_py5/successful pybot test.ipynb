{
 "cells": [
  {
   "cell_type": "code",
   "execution_count": 1,
   "id": "28c493b9",
   "metadata": {},
   "outputs": [
    {
     "data": {
      "image/png": "[encoded data removed]",
      "text/plain": [
       "<PIL.Image.Image image mode=RGB size=200x200 at 0x206C05C7790>"
      ]
     },
     "execution_count": 1,
     "metadata": {},
     "output_type": "execute_result"
    }
   ],
   "source": [
    "# use pybot to create static images simply\n",
    "# use py5 kernal to define setup and draw functions like in the PRocessing editor\n",
    "\n",
    "size(200, 200)\n",
    "background(255, 255, 0)\n",
    "rect(50, 50, 100, 100)"
   ]
  },
  {
   "cell_type": "code",
   "execution_count": 3,
   "id": "311923d0",
   "metadata": {},
   "outputs": [
    {
     "data": {
      "image/png": "[encoded data removed]",
      "text/plain": [
       "<PIL.Image.Image image mode=RGB size=200x200 at 0x206C0AD94B0>"
      ]
     },
     "execution_count": 3,
     "metadata": {},
     "output_type": "execute_result"
    }
   ],
   "source": [
    "size(200, 200)\n",
    "\n",
    "def draw_random_circle():\n",
    "    x = random_int(width)\n",
    "    y = random_int(height)\n",
    "    circle(x, y, random_int(25))\n",
    "    \n",
    "for _ in range(20):\n",
    "    draw_random_circle()"
   ]
  },
  {
   "cell_type": "code",
   "execution_count": 4,
   "id": "7cb398f9",
   "metadata": {},
   "outputs": [
    {
     "data": {
      "image/png": "[encoded data removed]",
      "text/plain": [
       "<PIL.Image.Image image mode=RGB size=200x200 at 0x206C0AD9690>"
      ]
     },
     "execution_count": 4,
     "metadata": {},
     "output_type": "execute_result"
    }
   ],
   "source": [
    "size(200, 200, P2D)\n",
    "\n",
    "circle(width / 2, height / 2, 150)"
   ]
  },
  {
   "cell_type": "code",
   "execution_count": 5,
   "id": "01b7ebc7",
   "metadata": {},
   "outputs": [
    {
     "data": {
      "text/plain": [
       "<IPython.core.display.SVG object>"
      ]
     },
     "execution_count": 5,
     "metadata": {},
     "output_type": "execute_result"
    }
   ],
   "source": [
    "size(200, 200, SVG, '/tmp/drawing.svg') # create new folder where fiel is and create file in folder to open in chrome\n",
    "\n",
    "circle(width / 2, height / 2, 150)"
   ]
  },
  {
   "cell_type": "code",
   "execution_count": null,
   "id": "dc315397",
   "metadata": {},
   "outputs": [],
   "source": []
  }
 ],
 "metadata": {
  "kernelspec": {
   "display_name": "py5bot",
   "language": "python",
   "name": "py5bot"
  },
  "language_info": {
   "codemirror_mode": {
    "name": "ipython",
    "version": 3
   },
   "file_extension": ".py",
   "mimetype": "text/x-python",
   "name": "python",
   "nbconvert_exporter": "python",
   "pygments_lexer": "ipython3",
   "version": "3.10.4"
  }
 },
 "nbformat": 4,
 "nbformat_minor": 5
}
