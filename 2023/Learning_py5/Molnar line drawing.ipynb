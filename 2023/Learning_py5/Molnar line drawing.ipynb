{
 "cells": [
  {
   "cell_type": "code",
   "execution_count": 1,
   "id": "1a889e82",
   "metadata": {},
   "outputs": [],
   "source": [
    "# d'aprés Vera Molnar \"interruptions\" (https://collections.vam.ac.uk/item/O1193775/interruptions-drawing-vera-molnar/)\n",
    "from itertools import product\n",
    "\n",
    "def setup():\n",
    "    size(500, 500)\n",
    "\n",
    "def draw():\n",
    "    M = 12\n",
    "    rs = 26\n",
    "\n",
    "    stroke(100)\n",
    "    background(250, 250, 250)\n",
    "    random_seed(rs)\n",
    "    margin = M * 3\n",
    "    interruptions = []\n",
    "    for _ in range(10):\n",
    "        w = random_int(1, 7)\n",
    "        h = random_int(1, 5) \n",
    "        x = random_int(3, width // M - 3 - w)\n",
    "        y = random_int(3, height // M - 3 - h)\n",
    "        interruptions.extend(product(range(x, x + w), range(y, y + h)))        \n",
    "    for y in range(margin, height - margin, M):\n",
    "        for x in range(margin, width - margin, M):\n",
    "            with push_matrix():\n",
    "                translate(x, y)\n",
    "                r = radians(random(-3, 3) * 30 * random(-1, 1))\n",
    "                rotate(r)\n",
    "                if (x // M, y // M) not in interruptions or abs(r) > PI * 0.20:\n",
    "                    line(0,-M, 0, +M)\n",
    "                    \n",
    "run_sketch()"
   ]
  },
  {
   "cell_type": "code",
   "execution_count": 2,
   "id": "247b78e3",
   "metadata": {},
   "outputs": [],
   "source": [
    "save('molnar line drawing.jpg')"
   ]
  },
  {
   "cell_type": "code",
   "execution_count": null,
   "id": "158e6d30",
   "metadata": {},
   "outputs": [],
   "source": []
  }
 ],
 "metadata": {
  "kernelspec": {
   "display_name": "py5",
   "language": "python",
   "name": "py5"
  },
  "language_info": {
   "codemirror_mode": {
    "name": "ipython",
    "version": 3
   },
   "file_extension": ".py",
   "mimetype": "text/x-python",
   "name": "python",
   "nbconvert_exporter": "python",
   "pygments_lexer": "ipython3",
   "version": "3.10.4"
  }
 },
 "nbformat": 4,
 "nbformat_minor": 5
}
