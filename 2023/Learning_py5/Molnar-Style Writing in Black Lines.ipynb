{
 "cells": [
  {
   "cell_type": "code",
   "execution_count": 1,
   "id": "8a8da330",
   "metadata": {},
   "outputs": [],
   "source": [
    "\"\"\"\n",
    "Smooth Beziers via @introscopia\n",
    "Code for py5 (py5coding.org) imported mode\n",
    "\"\"\"\n",
    "from random import choice\n",
    "\n",
    "def setup():\n",
    "    size(880, 600)\n",
    "    no_loop()\n",
    "\n",
    "def smooth_bezier(pts):\n",
    "    \"\"\"From @introscopia\"\"\"\n",
    "    pts = [Py5Vector(*p) for p in pts]\n",
    "    with begin_shape():\n",
    "        vertex(*pts[0])\n",
    "        for i in range(1, len(pts)):\n",
    "            n = i + 1\n",
    "            if n >= len(pts): n = 0\n",
    "            p = i-1\n",
    "            pp = i-2\n",
    "            c1 = (pts[i] - pts[pp]) * 0.2 + pts[p]\n",
    "            c2 = (pts[p] - pts[n]) * 0.2 + pts[i]\n",
    "            bezier_vertex(c1.x, c1.y, c2.x, c2.y, pts[i].x, pts[i].y)\n",
    "#             ellipse(c1.x, c1.y, 6, 6)\n",
    "#             ellipse(c2.x, c2.y, 6, 6)\n",
    "        c1 = (pts[0] - pts[-2]) * 0.2 + pts[-1]\n",
    "        c2 = (pts[-1] - pts[1]) * 0.2 + pts[0]        \n",
    "        bezier_vertex(c1.x, c1.y, c2.x, c2.y, pts[0].x, pts[0].y)    \n",
    "    \n",
    "def draw():\n",
    "    background(240)\n",
    "    translate(80, 100)\n",
    "    C = 19\n",
    "    L = 5\n",
    "    for _ in range(5):\n",
    "        for _ in range(C):\n",
    "            N = 5 # Num points\n",
    "            W = (-20, 20)\n",
    "            H = (-40, -20, -20, 0, 0, 0, 20, 20, 40)\n",
    "            pts = [(choice(W), choice(H)) for _ in range(N)]\n",
    "            V = 5 # range of random variation\n",
    "            ptsb = [(x + random(-V, V), y + random(-V, V)) for x, y in pts]\n",
    "            fill(0)\n",
    "            if random(10) > 1:\n",
    "                smooth_bezier(pts + ptsb[::-1])\n",
    "            translate(40, 0)\n",
    "        translate(-40 * C, 100)\n",
    "    save_frame('###.png')\n",
    "\n",
    "run_sketch()"
   ]
  },
  {
   "cell_type": "code",
   "execution_count": 2,
   "id": "b39a3ccd",
   "metadata": {},
   "outputs": [],
   "source": [
    "save('molnar-style writing in black lines.jpg')"
   ]
  },
  {
   "cell_type": "code",
   "execution_count": null,
   "id": "66535ae5",
   "metadata": {},
   "outputs": [],
   "source": []
  }
 ],
 "metadata": {
  "kernelspec": {
   "display_name": "py5",
   "language": "python",
   "name": "py5"
  },
  "language_info": {
   "codemirror_mode": {
    "name": "ipython",
    "version": 3
   },
   "file_extension": ".py",
   "mimetype": "text/x-python",
   "name": "python",
   "nbconvert_exporter": "python",
   "pygments_lexer": "ipython3",
   "version": "3.10.4"
  }
 },
 "nbformat": 4,
 "nbformat_minor": 5
}
