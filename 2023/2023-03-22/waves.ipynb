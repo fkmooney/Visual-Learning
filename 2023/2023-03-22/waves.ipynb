{
 "cells": [
  {
   "cell_type": "code",
   "execution_count": 81,
   "id": "d69c4e27",
   "metadata": {},
   "outputs": [],
   "source": [
    "from arcs import arc_corner\n",
    "\n",
    "def setup():\n",
    "    size(500, 500, P2D)\n",
    "    smooth(8)\n",
    "    background(240)\n",
    "    for x in range(-600, 600, 10):\n",
    "        stroke(40)\n",
    "        wave(x,       -x, x + 600, 600 - x, 1 + abs(x /10), n=12)\n",
    "        wave(x + 600,  x,       x, 600 + x, 1 + abs(x /5), n=12)\n",
    "\n",
    "def wave(x1, y1, x2, y2, s=None, n=2, r=19):\n",
    "    L = dist(x1, y1, x2, y2)\n",
    "    if not s:\n",
    "        s = int(max(L / 5, 10))\n",
    "    no_fill()\n",
    "    with push_matrix():\n",
    "        translate(x1, y1)\n",
    "        angle = atan2(x1 - x2, y2 - y1)\n",
    "        rotate(angle)\n",
    "        offset = 0\n",
    "        dy = L / (n + 2.)\n",
    "        point_L = []\n",
    "        point_L.append((0, 0))\n",
    "        with begin_shape():\n",
    "            vertex(0, 0)\n",
    "            for i in range(1, n + 1):\n",
    "                point_L.append((0, i * dy))\n",
    "                if i % 2:\n",
    "                    point_L.append((-s, i * dy + dy / 2.))\n",
    "                    point_L.append((0, i * dy + dy))\n",
    "                else:\n",
    "                    point_L.append((s, i * dy + dy / 2.))\n",
    "                    point_L.append((0, i * dy + dy))\n",
    "            point_L.append((0, L))\n",
    "            for p0, p1, p2 in zip(point_L[:-2],\n",
    "                                  point_L[1:-1],\n",
    "                                  point_L[2:]\n",
    "                                  ):\n",
    "                m01 = (p0[0] + p1[0]) / 2, (p0[1] + p1[1]) / 2\n",
    "                m12 = (p1[0] + p2[0]) / 2, (p1[1] + p2[1]) / 2\n",
    "                arc_corner(p1, m12, m01, r)\n",
    "            vertex(0, L)"
   ]
  },
  {
   "cell_type": "code",
   "execution_count": 82,
   "id": "28654a0e",
   "metadata": {},
   "outputs": [],
   "source": [
    "run_sketch()"
   ]
  },
  {
   "cell_type": "code",
   "execution_count": null,
   "id": "24bdfa41",
   "metadata": {},
   "outputs": [],
   "source": [
    "save('out.jpg')"
   ]
  }
 ],
 "metadata": {
  "kernelspec": {
   "display_name": "py5",
   "language": "python",
   "name": "py5"
  },
  "language_info": {
   "codemirror_mode": {
    "name": "ipython",
    "version": 3
   },
   "file_extension": ".py",
   "mimetype": "text/x-python",
   "name": "python",
   "nbconvert_exporter": "python",
   "pygments_lexer": "ipython3",
   "version": "3.10.4"
  }
 },
 "nbformat": 4,
 "nbformat_minor": 5
}
